{
 "cells": [
  {
   "cell_type": "code",
   "execution_count": 22,
   "id": "bulgarian-filing",
   "metadata": {},
   "outputs": [
    {
     "data": {
      "text/plain": [
       "5"
      ]
     },
     "execution_count": 22,
     "metadata": {},
     "output_type": "execute_result"
    }
   ],
   "source": [
    "# Ex1\n",
    "def solution(N):\n",
    "    N = bin(N)\n",
    "    N = N.split('b')[1].split('1') if N[-1] == '1' else N.split('b')[1].split('1')[:-1]\n",
    "    return N\n",
    "\n",
    "n = 1041 #  int(input())\n",
    "result = solution(n)\n",
    "len(max(result))"
   ]
  },
  {
   "cell_type": "code",
   "execution_count": 18,
   "id": "noted-endorsement",
   "metadata": {},
   "outputs": [
    {
     "name": "stdout",
     "output_type": "stream",
     "text": [
      "0 == 1\n",
      "0 == 2\n",
      "0 == 4\n",
      "1 == 2\n",
      "1 == 3\n",
      "1 == 4\n",
      "1 == 5\n",
      "2 == 3\n",
      "2 == 4\n",
      "3 == 4\n",
      "4 == 5\n",
      "result: 11\n"
     ]
    }
   ],
   "source": [
    "# Ex2\n",
    "def solution(A):\n",
    "    if len(A) > 10000:\n",
    "        return -1\n",
    "    counter = 0\n",
    "    for j in range(len(A)):\n",
    "        for k in range(j + 1, len(A)):\n",
    "            if (abs(k - j) <= abs(A[k] + A[j])):\n",
    "                print(j, '==', k)\n",
    "                counter += 1\n",
    "    return counter\n",
    "\n",
    "A = [1, 5, 2, 1, 4, 0]\n",
    "print('result:', solution(A))"
   ]
  },
  {
   "cell_type": "code",
   "execution_count": 31,
   "id": "optical-solomon",
   "metadata": {},
   "outputs": [
    {
     "data": {
      "text/plain": [
       "7"
      ]
     },
     "execution_count": 31,
     "metadata": {},
     "output_type": "execute_result"
    }
   ],
   "source": [
    "# Ex3\n",
    "def solution(A):\n",
    "    for i in A:\n",
    "        if A.count(i)%2 != 0:\n",
    "            return i\n",
    "    \n",
    "A = [9, 3, 9, 3, 9, 7, 9]\n",
    "solution(A)"
   ]
  },
  {
   "cell_type": "code",
   "execution_count": 43,
   "id": "random-original",
   "metadata": {},
   "outputs": [
    {
     "data": {
      "text/plain": [
       "3"
      ]
     },
     "execution_count": 43,
     "metadata": {},
     "output_type": "execute_result"
    }
   ],
   "source": [
    "# Ex4\n",
    "def solution(A):\n",
    "    up = B.count(1)\n",
    "    down = B.count(0)\n",
    "    temp = -1\n",
    "    for i, each in enumerate(A):\n",
    "        if B[i]:\n",
    "            temp = each\n",
    "        elif temp != -1:\n",
    "            if each < temp:\n",
    "                up = up - 1\n",
    "            else:\n",
    "                down = down - 1\n",
    "                temp = -1\n",
    "    return up + down\n",
    "    \n",
    "A = [4, 3, 2, 1, 5]\n",
    "B = [0, 1, 0, 0, 0]\n",
    "solution(A)"
   ]
  },
  {
   "cell_type": "code",
   "execution_count": null,
   "id": "downtown-hepatitis",
   "metadata": {},
   "outputs": [],
   "source": []
  }
 ],
 "metadata": {
  "kernelspec": {
   "display_name": "Python 3",
   "language": "python",
   "name": "python3"
  },
  "language_info": {
   "codemirror_mode": {
    "name": "ipython",
    "version": 3
   },
   "file_extension": ".py",
   "mimetype": "text/x-python",
   "name": "python",
   "nbconvert_exporter": "python",
   "pygments_lexer": "ipython3",
   "version": "3.8.6"
  }
 },
 "nbformat": 4,
 "nbformat_minor": 5
}
